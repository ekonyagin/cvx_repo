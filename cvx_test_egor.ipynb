{
 "cells": [
  {
   "cell_type": "markdown",
   "metadata": {},
   "source": [
    "## Import, common routines and dataset"
   ]
  },
  {
   "cell_type": "code",
   "execution_count": 3,
   "metadata": {},
   "outputs": [],
   "source": [
    "import sys\n",
    "sys.path.append('/home/egor/cvx_repo/ddn/ddn')"
   ]
  },
  {
   "cell_type": "code",
   "execution_count": 4,
   "metadata": {},
   "outputs": [],
   "source": [
    "import numpy as np\n",
    "\n",
    "import random\n",
    "\n",
    "import torch\n",
    "import torch.nn as nn\n",
    "import torch.optim as optim\n",
    "import torch.nn.functional as F\n",
    "\n",
    "import torchvision\n",
    "import torchvision.transforms as transforms\n",
    "\n",
    "import torchattacks\n",
    "\n",
    "import ddn.pytorch.robustpool as robustpool\n",
    "\n",
    "import neptune\n",
    "\n",
    "import urllib\n",
    "from urllib.request import urlretrieve\n",
    "from pathlib import Path\n",
    "\n",
    "# import pytorch_lightning as pl\n",
    "\n",
    "%matplotlib inline\n",
    "import matplotlib.pyplot as plt\n",
    "\n",
    "from tqdm.notebook import tqdm\n",
    "\n",
    "from IPython.display import clear_output\n",
    "\n",
    "\n",
    "random.seed(42)\n",
    "np.random.seed(42)\n",
    "torch.manual_seed(42)\n",
    "torch.cuda.manual_seed_all(42)\n",
    "\n",
    "DEVICE = \"cuda\" if torch.cuda.is_available() else \"cpu\"\n",
    "\n",
    "if torch.cuda.is_available():\n",
    "    torch.backends.cudnn.deterministic = True"
   ]
  },
  {
   "cell_type": "code",
   "execution_count": 5,
   "metadata": {},
   "outputs": [
    {
     "name": "stdout",
     "output_type": "stream",
     "text": [
      "Downloading...\n"
     ]
    }
   ],
   "source": [
    "DATASET_ROOT = Path(\"Architectural_Heritage_Elements_Dataset_128_splitted\")\n",
    "ARCHIVE_NAME = Path(\"Architectural_Heritage_Elements_Dataset_128_splitted.zip\")\n",
    "\n",
    "N_CLASSES = 10\n",
    "\n",
    "if not ARCHIVE_NAME.is_file():\n",
    "    print(\"Downloading...\")\n",
    "    urlretrieve(\n",
    "        \"https://dl.dropboxusercontent.com/s/bucvr9x6ypqjht2/Architectural_Heritage_Elements_Dataset_128_splitted.zip\",\n",
    "        ARCHIVE_NAME)\n",
    "\n",
    "if not DATASET_ROOT.is_dir():\n",
    "    print(\"Unzipping...\")\n",
    "    import zipfile\n",
    "    with zipfile.ZipFile(ARCHIVE_NAME, 'r') as archive:\n",
    "        archive.extractall(\".\")\n",
    "\n",
    "train_dataset = torchvision.datasets.ImageFolder(DATASET_ROOT / \"train\", transform=transforms.ToTensor())\n",
    "test_dataset = torchvision.datasets.ImageFolder(DATASET_ROOT / \"test\", transform=transforms.ToTensor())"
   ]
  },
  {
   "cell_type": "code",
   "execution_count": 6,
   "metadata": {},
   "outputs": [],
   "source": [
    "def calculate_accuracy(model, batches):\n",
    "    n_predictions = 0\n",
    "    n_correct = 0\n",
    "\n",
    "    with torch.no_grad():\n",
    "        for X_batch, y_batch in batches:\n",
    "            y_pred = torch.argmax(model.forward(X_batch.to(DEVICE)), dim=1).cpu()\n",
    "            n_correct += (y_pred == y_batch).sum().item()\n",
    "            n_predictions += y_batch.shape[0]\n",
    "    \n",
    "    return n_correct / n_predictions\n",
    "\n",
    "\n",
    "def calculate_accuracy_dataset(model, dataset, batch_size):\n",
    "    loader = torch.utils.data.DataLoader(dataset, batch_size=batch_size, num_workers=4, shuffle=False)\n",
    "    return calculate_accuracy(model, loader)\n",
    "\n",
    "\n",
    "def run_epoch(model, optimizer, criterion, batches, phase='train'):\n",
    "    is_train = phase == 'train'\n",
    "    if is_train:\n",
    "        model.train()\n",
    "    else:\n",
    "        model.eval()\n",
    "\n",
    "    epoch_loss = 0.0\n",
    "    n_predictions = 0\n",
    "\n",
    "    for X_batch, y_batch in batches:\n",
    "\n",
    "        with torch.set_grad_enabled(is_train):\n",
    "            y_pred = model.forward(X_batch.to(DEVICE))\n",
    "            loss = criterion.forward(y_pred, y_batch.to(DEVICE))\n",
    "    \n",
    "        if is_train:\n",
    "            optimizer.zero_grad()\n",
    "            loss.backward()\n",
    "            optimizer.step()\n",
    "\n",
    "        epoch_loss += loss.item() * y_batch.shape[0]\n",
    "        n_predictions += y_batch.shape[0]\n",
    "\n",
    "    epoch_loss = epoch_loss / n_predictions\n",
    "\n",
    "    return epoch_loss\n",
    "\n",
    "\n",
    "def train_model(model, optimizer, criterion, n_epoch, batch_size, dataset, train_percentage, backup_name):\n",
    "    train_losses = []\n",
    "    val_losses = []\n",
    "    best_val_loss = np.inf\n",
    "\n",
    "    # train_batches, val_batches = get_train_val_loaders(train_dataset, val_dataset, batch_size=batch_size)\n",
    "    train_len = int(len(dataset) * train_percentage)\n",
    "    val_len = len(dataset) - train_len\n",
    "    train_dataset, val_dataset = torch.utils.data.random_split(dataset, [train_len, val_len])\n",
    "    \n",
    "    train_batches = torch.utils.data.DataLoader(train_dataset, batch_size=batch_size, num_workers=4, shuffle=True)\n",
    "    val_batches = torch.utils.data.DataLoader(val_dataset, batch_size=batch_size, num_workers=4, shuffle=False)\n",
    "\n",
    "    for epoch in range(n_epoch):\n",
    "        train_loss = run_epoch(model, optimizer, criterion, train_batches, phase='train')\n",
    "        val_loss = run_epoch(model, optimizer, criterion, val_batches, phase='val')\n",
    "\n",
    "        train_losses.append(train_loss)\n",
    "        val_losses.append(val_loss)\n",
    "\n",
    "        if val_loss < best_val_loss:\n",
    "            best_val_loss = val_loss\n",
    "            torch.save(model.state_dict(), backup_name)\n",
    "\n",
    "        clear_output(wait=True)\n",
    "        plt.figure(figsize=(8, 6))\n",
    "        plt.plot(train_losses, label=\"train\")\n",
    "        plt.plot(val_losses, label=\"val\")\n",
    "        plt.title(\"Train and validation loss\")\n",
    "        plt.xlabel(\"Iteration\")\n",
    "        plt.ylabel(\"Loss\")\n",
    "        plt.grid()\n",
    "        plt.legend()\n",
    "        plt.show()"
   ]
  },
  {
   "cell_type": "markdown",
   "metadata": {},
   "source": [
    "## ResNet-18"
   ]
  },
  {
   "cell_type": "code",
   "execution_count": 42,
   "metadata": {},
   "outputs": [],
   "source": [
    "model = model = torchvision.models.resnet18(pretrained=False, num_classes=N_CLASSES)\n",
    "model = model.to(DEVICE)\n",
    "optimizer = torch.optim.Adam(model.parameters(), lr=1e-3, weight_decay=1e-4)"
   ]
  },
  {
   "cell_type": "code",
   "execution_count": null,
   "metadata": {},
   "outputs": [],
   "source": []
  },
  {
   "cell_type": "code",
   "execution_count": 44,
   "metadata": {},
   "outputs": [
    {
     "data": {
      "image/png": "[encoded data removed]",
      "text/plain": [
       "<Figure size 576x432 with 1 Axes>"
      ]
     },
     "metadata": {
      "needs_background": "light"
     },
     "output_type": "display_data"
    }
   ],
   "source": [
    "train_model(model, optimizer, \n",
    "            criterion=nn.CrossEntropyLoss(),\n",
    "            n_epoch=50,\n",
    "            batch_size=128,\n",
    "            dataset=train_dataset,\n",
    "            train_percentage=0.7,\n",
    "            backup_name=\"resnet18_basic.pth.tar\")"
   ]
  },
  {
   "cell_type": "code",
   "execution_count": 45,
   "metadata": {},
   "outputs": [],
   "source": [
    "best_model = torchvision.models.resnet18(pretrained=False, num_classes=N_CLASSES)\n",
    "best_model = best_model.to(DEVICE)\n",
    "best_model.load_state_dict(torch.load(\"resnet18_basic.pth.tar\"))\n",
    "best_model = best_model.eval()"
   ]
  },
  {
   "cell_type": "code",
   "execution_count": 46,
   "metadata": {},
   "outputs": [
    {
     "data": {
      "text/plain": [
       "0.8327645051194539"
      ]
     },
     "execution_count": 46,
     "metadata": {},
     "output_type": "execute_result"
    }
   ],
   "source": [
    "calculate_accuracy_dataset(best_model, test_dataset, 128)"
   ]
  },
  {
   "cell_type": "markdown",
   "metadata": {},
   "source": [
    "## Adversarial attacks"
   ]
  },
  {
   "cell_type": "code",
   "execution_count": 12,
   "metadata": {},
   "outputs": [],
   "source": [
    "def fgsm_attack(image, epsilon, data_grad):\n",
    "    # Collect the element-wise sign of the data gradient\n",
    "    sign_data_grad = data_grad.sign()\n",
    "    # Create the perturbed image by adjusting each pixel of the input image\n",
    "    perturbed_image = image + epsilon*sign_data_grad\n",
    "    # Adding clipping to maintain [0,1] range\n",
    "    perturbed_image = torch.clamp(perturbed_image, 0, 1)\n",
    "    # Return the perturbed image\n",
    "    return perturbed_image\n",
    "\n",
    "\n",
    "def test_attack(model, test_dataset, epsilon):\n",
    "    # Accuracy counter\n",
    "    correct = 0\n",
    "    \n",
    "    test_loader = torch.utils.data.DataLoader(test_dataset, batch_size=1, num_workers=4, shuffle=False)\n",
    "\n",
    "    # Loop over all examples in test set\n",
    "    for data, target in test_loader:\n",
    "\n",
    "        # Send the data and label to the device\n",
    "        data, target = data.to(DEVICE), target.to(DEVICE)\n",
    "\n",
    "        # Set requires_grad attribute of tensor. Important for Attack\n",
    "        data.requires_grad = True\n",
    "\n",
    "        # Forward pass the data through the model\n",
    "        output = model(data)\n",
    "        init_pred = output.max(1, keepdim=True)[1] # get the index of the max log-probability\n",
    "\n",
    "        # If the initial prediction is wrong, dont bother attacking, just move on\n",
    "        if init_pred.item() != target.item():\n",
    "            continue\n",
    "\n",
    "        # Calculate the loss\n",
    "        loss = F.nll_loss(output, target)\n",
    "\n",
    "        # Zero all existing gradients\n",
    "        model.zero_grad()\n",
    "\n",
    "        # Calculate gradients of model in backward pass\n",
    "        loss.backward()\n",
    "\n",
    "        # Collect datagrad\n",
    "        data_grad = data.grad.data\n",
    "\n",
    "        # Call FGSM Attack\n",
    "        perturbed_data = fgsm_attack(data, epsilon, data_grad)\n",
    "\n",
    "        # Re-classify the perturbed image\n",
    "        output = model(perturbed_data)\n",
    "\n",
    "        # Check for success\n",
    "        final_pred = output.max(1, keepdim=True)[1] # get the index of the max log-probability\n",
    "        if final_pred.item() == target.item():\n",
    "            correct += 1\n",
    "\n",
    "    # Calculate final accuracy for this epsilon\n",
    "    final_acc = correct/float(len(test_loader))\n",
    "    print(\"Epsilon: {}\\tTest Accuracy = {} / {} = {}\".format(epsilon, correct, len(test_loader), final_acc))\n",
    "\n",
    "    # Return the accuracy and an adversarial example\n",
    "    return final_acc"
   ]
  },
  {
   "cell_type": "code",
   "execution_count": 47,
   "metadata": {},
   "outputs": [],
   "source": [
    "epsilons = [0, .05, .1, .15, .2, .25, .3]"
   ]
  },
  {
   "cell_type": "code",
   "execution_count": 48,
   "metadata": {},
   "outputs": [
    {
     "name": "stdout",
     "output_type": "stream",
     "text": [
      "Epsilon: 0\tTest Accuracy = 1708 / 2051 = 0.8327645051194539\n",
      "Epsilon: 0.05\tTest Accuracy = 26 / 2051 = 0.012676743052169674\n",
      "Epsilon: 0.1\tTest Accuracy = 0 / 2051 = 0.0\n",
      "Epsilon: 0.15\tTest Accuracy = 1 / 2051 = 0.00048756704046806434\n",
      "Epsilon: 0.2\tTest Accuracy = 1 / 2051 = 0.00048756704046806434\n",
      "Epsilon: 0.25\tTest Accuracy = 14 / 2051 = 0.006825938566552901\n",
      "Epsilon: 0.3\tTest Accuracy = 33 / 2051 = 0.016089712335446125\n",
      "[0.8327645051194539, 0.012676743052169674, 0.0, 0.00048756704046806434, 0.00048756704046806434, 0.006825938566552901, 0.016089712335446125]\n"
     ]
    }
   ],
   "source": [
    "standard_model_accs = []\n",
    "for epsilon in epsilons:\n",
    "    acc = test_attack(best_model, test_dataset, epsilon)\n",
    "    standard_model_accs.append(acc)\n",
    "print(standard_model_accs)"
   ]
  },
  {
   "cell_type": "markdown",
   "metadata": {},
   "source": [
    "## Robust pooling"
   ]
  },
  {
   "cell_type": "code",
   "execution_count": 51,
   "metadata": {},
   "outputs": [],
   "source": [
    "class RobustPoolResNet(nn.Module):\n",
    "    def __init__(self, num_classes):\n",
    "        super().__init__()\n",
    "        \n",
    "        self._model = torchvision.models.resnet18(pretrained=False, num_classes=num_classes)\n",
    "        self._model.avgpool = robustpool.RobustGlobalPool2d(robustpool.Welsch)\n",
    "    \n",
    "    def forward(self, x):\n",
    "        return self._model.forward(x)"
   ]
  },
  {
   "cell_type": "code",
   "execution_count": null,
   "metadata": {},
   "outputs": [],
   "source": [
    "class RobustPoolResNet(nn.Module):\n",
    "    def __init__(self, num_classes, robust_type, alpha=1.0):\n",
    "        super().__init__()\n",
    "        \n",
    "        if robust_type != \"vanilla\":\n",
    "            self._model = torchvision.models.resnet18(pretrained=False, num_classes=num_classes)\n",
    "            self._model_name = \"resnet18\"\n",
    "\n",
    "            if robust_type == \"quadratic\":\n",
    "                self._model.avgpool = robustpool.RobustGlobalPool2d(robustpool.Quadratic, alpha=alpha)\n",
    "                self._model_name += \"quadratic\" # + str(alpha).replace('.', '_')\n",
    "            elif robust_type == \"huber\":\n",
    "                self._model.avgpool = robustpool.RobustGlobalPool2d(robustpool.Huber, alpha=alpha)\n",
    "                self._model_name += \"huber\"\n",
    "            elif robust_type == \"pseudo-huber\":\n",
    "                self._model.avgpool = robustpool.RobustGlobalPool2d(robustpool.PseudoHuber, alpha=alpha)\n",
    "                self._model_name += \"pseudo_huber\"\n",
    "            elif robust_type == \"welsch\":\n",
    "                self._model.avgpool = robustpool.RobustGlobalPool2d(robustpool.Welsch, alpha=alpha)\n",
    "                self._model_name += \"welsch\"\n",
    "            elif robust_type == \"trunc-quadratic\":\n",
    "                self._model.avgpool = robustpool.RobustGlobalPool2d(robustpool.TruncatedQuadratic, alpha=alpha)\n",
    "                self._model_name += \"trunc_quadratic\"\n",
    "\n",
    "            self._model_name += \"_alpha_\" + str(alpha).replace('.', '_')\n",
    "\n",
    "        else:\n",
    "            self._model = torchvision.models.resnet18(pretrained=False, num_classes=num_classes)\n",
    "            self._model_name = \"resnet18_vanilla\"\n",
    "    \n",
    "    def forward(self, x):\n",
    "        return self._model.forward(x)\n",
    "\n",
    "    def get_model_name(self):\n",
    "        return self._model_name\n"
   ]
  },
  {
   "cell_type": "code",
   "execution_count": 52,
   "metadata": {},
   "outputs": [],
   "source": [
    "model = RobustPoolResNet(num_classes=N_CLASSES)\n",
    "model = model.to(DEVICE)\n",
    "optimizer = torch.optim.Adam(model.parameters(), lr=1e-3, weight_decay=1e-4)"
   ]
  },
  {
   "cell_type": "code",
   "execution_count": null,
   "metadata": {},
   "outputs": [
    {
     "data": {
      "image/png": "[encoded data removed]",
      "text/plain": [
       "<Figure size 576x432 with 1 Axes>"
      ]
     },
     "metadata": {
      "needs_background": "light"
     },
     "output_type": "display_data"
    }
   ],
   "source": [
    "train_model(model, optimizer, \n",
    "            criterion=nn.CrossEntropyLoss(),\n",
    "            n_epoch=50,\n",
    "            batch_size=256,\n",
    "            dataset=train_dataset,\n",
    "            train_percentage=0.7,\n",
    "            backup_name=\"resnet18_welsch.pth.tar\")"
   ]
  },
  {
   "cell_type": "code",
   "execution_count": 24,
   "metadata": {},
   "outputs": [],
   "source": [
    "best_model = RobustPoolResNet(num_classes=N_CLASSES)\n",
    "best_model = best_model.to(DEVICE)\n",
    "best_model.load_state_dict(torch.load(\"resnet18_welsch.pth.tar\"))\n",
    "best_model = best_model.eval()"
   ]
  },
  {
   "cell_type": "code",
   "execution_count": 25,
   "metadata": {},
   "outputs": [
    {
     "ename": "KeyboardInterrupt",
     "evalue": "",
     "output_type": "error",
     "traceback": [
      "\u001b[0;31m---------------------------------------------------------------------------\u001b[0m",
      "\u001b[0;31mKeyboardInterrupt\u001b[0m                         Traceback (most recent call last)",
      "\u001b[0;32m<ipython-input-25-7bb347ffcf06>\u001b[0m in \u001b[0;36m<module>\u001b[0;34m\u001b[0m\n\u001b[1;32m      1\u001b[0m \u001b[0mrobust_model_accs\u001b[0m \u001b[0;34m=\u001b[0m \u001b[0;34m[\u001b[0m\u001b[0;34m]\u001b[0m\u001b[0;34m\u001b[0m\u001b[0;34m\u001b[0m\u001b[0m\n\u001b[1;32m      2\u001b[0m \u001b[0;32mfor\u001b[0m \u001b[0mepsilon\u001b[0m \u001b[0;32min\u001b[0m \u001b[0mepsilons\u001b[0m\u001b[0;34m:\u001b[0m\u001b[0;34m\u001b[0m\u001b[0;34m\u001b[0m\u001b[0m\n\u001b[0;32m----> 3\u001b[0;31m     \u001b[0macc\u001b[0m \u001b[0;34m=\u001b[0m \u001b[0mtest_attack\u001b[0m\u001b[0;34m(\u001b[0m\u001b[0mbest_model\u001b[0m\u001b[0;34m,\u001b[0m \u001b[0mtest_dataset\u001b[0m\u001b[0;34m,\u001b[0m \u001b[0mepsilon\u001b[0m\u001b[0;34m)\u001b[0m\u001b[0;34m\u001b[0m\u001b[0;34m\u001b[0m\u001b[0m\n\u001b[0m\u001b[1;32m      4\u001b[0m     \u001b[0mrobust_model_accs\u001b[0m\u001b[0;34m.\u001b[0m\u001b[0mappend\u001b[0m\u001b[0;34m(\u001b[0m\u001b[0macc\u001b[0m\u001b[0;34m)\u001b[0m\u001b[0;34m\u001b[0m\u001b[0;34m\u001b[0m\u001b[0m\n\u001b[1;32m      5\u001b[0m \u001b[0mprint\u001b[0m\u001b[0;34m(\u001b[0m\u001b[0mrobust_model_accs\u001b[0m\u001b[0;34m)\u001b[0m\u001b[0;34m\u001b[0m\u001b[0;34m\u001b[0m\u001b[0m\n",
      "\u001b[0;32m<ipython-input-12-35752b41560c>\u001b[0m in \u001b[0;36mtest_attack\u001b[0;34m(model, test_dataset, epsilon)\u001b[0m\n\u001b[1;32m     26\u001b[0m \u001b[0;34m\u001b[0m\u001b[0m\n\u001b[1;32m     27\u001b[0m         \u001b[0;31m# Forward pass the data through the model\u001b[0m\u001b[0;34m\u001b[0m\u001b[0;34m\u001b[0m\u001b[0;34m\u001b[0m\u001b[0m\n\u001b[0;32m---> 28\u001b[0;31m         \u001b[0moutput\u001b[0m \u001b[0;34m=\u001b[0m \u001b[0mmodel\u001b[0m\u001b[0;34m(\u001b[0m\u001b[0mdata\u001b[0m\u001b[0;34m)\u001b[0m\u001b[0;34m\u001b[0m\u001b[0;34m\u001b[0m\u001b[0m\n\u001b[0m\u001b[1;32m     29\u001b[0m         \u001b[0minit_pred\u001b[0m \u001b[0;34m=\u001b[0m \u001b[0moutput\u001b[0m\u001b[0;34m.\u001b[0m\u001b[0mmax\u001b[0m\u001b[0;34m(\u001b[0m\u001b[0;36m1\u001b[0m\u001b[0;34m,\u001b[0m \u001b[0mkeepdim\u001b[0m\u001b[0;34m=\u001b[0m\u001b[0;32mTrue\u001b[0m\u001b[0;34m)\u001b[0m\u001b[0;34m[\u001b[0m\u001b[0;36m1\u001b[0m\u001b[0;34m]\u001b[0m \u001b[0;31m# get the index of the max log-probability\u001b[0m\u001b[0;34m\u001b[0m\u001b[0;34m\u001b[0m\u001b[0m\n\u001b[1;32m     30\u001b[0m \u001b[0;34m\u001b[0m\u001b[0m\n",
      "\u001b[0;32m~/egor_torch/lib/python3.6/site-packages/torch/nn/modules/module.py\u001b[0m in \u001b[0;36m__call__\u001b[0;34m(self, *input, **kwargs)\u001b[0m\n\u001b[1;32m    548\u001b[0m             \u001b[0mresult\u001b[0m \u001b[0;34m=\u001b[0m \u001b[0mself\u001b[0m\u001b[0;34m.\u001b[0m\u001b[0m_slow_forward\u001b[0m\u001b[0;34m(\u001b[0m\u001b[0;34m*\u001b[0m\u001b[0minput\u001b[0m\u001b[0;34m,\u001b[0m \u001b[0;34m**\u001b[0m\u001b[0mkwargs\u001b[0m\u001b[0;34m)\u001b[0m\u001b[0;34m\u001b[0m\u001b[0;34m\u001b[0m\u001b[0m\n\u001b[1;32m    549\u001b[0m         \u001b[0;32melse\u001b[0m\u001b[0;34m:\u001b[0m\u001b[0;34m\u001b[0m\u001b[0;34m\u001b[0m\u001b[0m\n\u001b[0;32m--> 550\u001b[0;31m             \u001b[0mresult\u001b[0m \u001b[0;34m=\u001b[0m \u001b[0mself\u001b[0m\u001b[0;34m.\u001b[0m\u001b[0mforward\u001b[0m\u001b[0;34m(\u001b[0m\u001b[0;34m*\u001b[0m\u001b[0minput\u001b[0m\u001b[0;34m,\u001b[0m \u001b[0;34m**\u001b[0m\u001b[0mkwargs\u001b[0m\u001b[0;34m)\u001b[0m\u001b[0;34m\u001b[0m\u001b[0;34m\u001b[0m\u001b[0m\n\u001b[0m\u001b[1;32m    551\u001b[0m         \u001b[0;32mfor\u001b[0m \u001b[0mhook\u001b[0m \u001b[0;32min\u001b[0m \u001b[0mself\u001b[0m\u001b[0;34m.\u001b[0m\u001b[0m_forward_hooks\u001b[0m\u001b[0;34m.\u001b[0m\u001b[0mvalues\u001b[0m\u001b[0;34m(\u001b[0m\u001b[0;34m)\u001b[0m\u001b[0;34m:\u001b[0m\u001b[0;34m\u001b[0m\u001b[0;34m\u001b[0m\u001b[0m\n\u001b[1;32m    552\u001b[0m             \u001b[0mhook_result\u001b[0m \u001b[0;34m=\u001b[0m \u001b[0mhook\u001b[0m\u001b[0;34m(\u001b[0m\u001b[0mself\u001b[0m\u001b[0;34m,\u001b[0m \u001b[0minput\u001b[0m\u001b[0;34m,\u001b[0m \u001b[0mresult\u001b[0m\u001b[0;34m)\u001b[0m\u001b[0;34m\u001b[0m\u001b[0;34m\u001b[0m\u001b[0m\n",
      "\u001b[0;32m<ipython-input-17-4f68e1bbe9b3>\u001b[0m in \u001b[0;36mforward\u001b[0;34m(self, x)\u001b[0m\n\u001b[1;32m      7\u001b[0m \u001b[0;34m\u001b[0m\u001b[0m\n\u001b[1;32m      8\u001b[0m     \u001b[0;32mdef\u001b[0m \u001b[0mforward\u001b[0m\u001b[0;34m(\u001b[0m\u001b[0mself\u001b[0m\u001b[0;34m,\u001b[0m \u001b[0mx\u001b[0m\u001b[0;34m)\u001b[0m\u001b[0;34m:\u001b[0m\u001b[0;34m\u001b[0m\u001b[0;34m\u001b[0m\u001b[0m\n\u001b[0;32m----> 9\u001b[0;31m         \u001b[0;32mreturn\u001b[0m \u001b[0mself\u001b[0m\u001b[0;34m.\u001b[0m\u001b[0m_model\u001b[0m\u001b[0;34m.\u001b[0m\u001b[0mforward\u001b[0m\u001b[0;34m(\u001b[0m\u001b[0mx\u001b[0m\u001b[0;34m)\u001b[0m\u001b[0;34m\u001b[0m\u001b[0;34m\u001b[0m\u001b[0m\n\u001b[0m",
      "\u001b[0;32m~/egor_torch/lib/python3.6/site-packages/torchvision/models/resnet.py\u001b[0m in \u001b[0;36mforward\u001b[0;34m(self, x)\u001b[0m\n\u001b[1;32m    218\u001b[0m \u001b[0;34m\u001b[0m\u001b[0m\n\u001b[1;32m    219\u001b[0m     \u001b[0;32mdef\u001b[0m \u001b[0mforward\u001b[0m\u001b[0;34m(\u001b[0m\u001b[0mself\u001b[0m\u001b[0;34m,\u001b[0m \u001b[0mx\u001b[0m\u001b[0;34m)\u001b[0m\u001b[0;34m:\u001b[0m\u001b[0;34m\u001b[0m\u001b[0;34m\u001b[0m\u001b[0m\n\u001b[0;32m--> 220\u001b[0;31m         \u001b[0;32mreturn\u001b[0m \u001b[0mself\u001b[0m\u001b[0;34m.\u001b[0m\u001b[0m_forward_impl\u001b[0m\u001b[0;34m(\u001b[0m\u001b[0mx\u001b[0m\u001b[0;34m)\u001b[0m\u001b[0;34m\u001b[0m\u001b[0;34m\u001b[0m\u001b[0m\n\u001b[0m\u001b[1;32m    221\u001b[0m \u001b[0;34m\u001b[0m\u001b[0m\n\u001b[1;32m    222\u001b[0m \u001b[0;34m\u001b[0m\u001b[0m\n",
      "\u001b[0;32m~/egor_torch/lib/python3.6/site-packages/torchvision/models/resnet.py\u001b[0m in \u001b[0;36m_forward_impl\u001b[0;34m(self, x)\u001b[0m\n\u001b[1;32m    211\u001b[0m         \u001b[0mx\u001b[0m \u001b[0;34m=\u001b[0m \u001b[0mself\u001b[0m\u001b[0;34m.\u001b[0m\u001b[0mlayer4\u001b[0m\u001b[0;34m(\u001b[0m\u001b[0mx\u001b[0m\u001b[0;34m)\u001b[0m\u001b[0;34m\u001b[0m\u001b[0;34m\u001b[0m\u001b[0m\n\u001b[1;32m    212\u001b[0m \u001b[0;34m\u001b[0m\u001b[0m\n\u001b[0;32m--> 213\u001b[0;31m         \u001b[0mx\u001b[0m \u001b[0;34m=\u001b[0m \u001b[0mself\u001b[0m\u001b[0;34m.\u001b[0m\u001b[0mavgpool\u001b[0m\u001b[0;34m(\u001b[0m\u001b[0mx\u001b[0m\u001b[0;34m)\u001b[0m\u001b[0;34m\u001b[0m\u001b[0;34m\u001b[0m\u001b[0m\n\u001b[0m\u001b[1;32m    214\u001b[0m         \u001b[0mx\u001b[0m \u001b[0;34m=\u001b[0m \u001b[0mtorch\u001b[0m\u001b[0;34m.\u001b[0m\u001b[0mflatten\u001b[0m\u001b[0;34m(\u001b[0m\u001b[0mx\u001b[0m\u001b[0;34m,\u001b[0m \u001b[0;36m1\u001b[0m\u001b[0;34m)\u001b[0m\u001b[0;34m\u001b[0m\u001b[0;34m\u001b[0m\u001b[0m\n\u001b[1;32m    215\u001b[0m         \u001b[0mx\u001b[0m \u001b[0;34m=\u001b[0m \u001b[0mself\u001b[0m\u001b[0;34m.\u001b[0m\u001b[0mfc\u001b[0m\u001b[0;34m(\u001b[0m\u001b[0mx\u001b[0m\u001b[0;34m)\u001b[0m\u001b[0;34m\u001b[0m\u001b[0;34m\u001b[0m\u001b[0m\n",
      "\u001b[0;32m~/egor_torch/lib/python3.6/site-packages/torch/nn/modules/module.py\u001b[0m in \u001b[0;36m__call__\u001b[0;34m(self, *input, **kwargs)\u001b[0m\n\u001b[1;32m    548\u001b[0m             \u001b[0mresult\u001b[0m \u001b[0;34m=\u001b[0m \u001b[0mself\u001b[0m\u001b[0;34m.\u001b[0m\u001b[0m_slow_forward\u001b[0m\u001b[0;34m(\u001b[0m\u001b[0;34m*\u001b[0m\u001b[0minput\u001b[0m\u001b[0;34m,\u001b[0m \u001b[0;34m**\u001b[0m\u001b[0mkwargs\u001b[0m\u001b[0;34m)\u001b[0m\u001b[0;34m\u001b[0m\u001b[0;34m\u001b[0m\u001b[0m\n\u001b[1;32m    549\u001b[0m         \u001b[0;32melse\u001b[0m\u001b[0;34m:\u001b[0m\u001b[0;34m\u001b[0m\u001b[0;34m\u001b[0m\u001b[0m\n\u001b[0;32m--> 550\u001b[0;31m             \u001b[0mresult\u001b[0m \u001b[0;34m=\u001b[0m \u001b[0mself\u001b[0m\u001b[0;34m.\u001b[0m\u001b[0mforward\u001b[0m\u001b[0;34m(\u001b[0m\u001b[0;34m*\u001b[0m\u001b[0minput\u001b[0m\u001b[0;34m,\u001b[0m \u001b[0;34m**\u001b[0m\u001b[0mkwargs\u001b[0m\u001b[0;34m)\u001b[0m\u001b[0;34m\u001b[0m\u001b[0;34m\u001b[0m\u001b[0m\n\u001b[0m\u001b[1;32m    551\u001b[0m         \u001b[0;32mfor\u001b[0m \u001b[0mhook\u001b[0m \u001b[0;32min\u001b[0m \u001b[0mself\u001b[0m\u001b[0;34m.\u001b[0m\u001b[0m_forward_hooks\u001b[0m\u001b[0;34m.\u001b[0m\u001b[0mvalues\u001b[0m\u001b[0;34m(\u001b[0m\u001b[0;34m)\u001b[0m\u001b[0;34m:\u001b[0m\u001b[0;34m\u001b[0m\u001b[0;34m\u001b[0m\u001b[0m\n\u001b[1;32m    552\u001b[0m             \u001b[0mhook_result\u001b[0m \u001b[0;34m=\u001b[0m \u001b[0mhook\u001b[0m\u001b[0;34m(\u001b[0m\u001b[0mself\u001b[0m\u001b[0;34m,\u001b[0m \u001b[0minput\u001b[0m\u001b[0;34m,\u001b[0m \u001b[0mresult\u001b[0m\u001b[0;34m)\u001b[0m\u001b[0;34m\u001b[0m\u001b[0;34m\u001b[0m\u001b[0m\n",
      "\u001b[0;32m~/cvx_final/ddn/ddn/pytorch/robustpool.py\u001b[0m in \u001b[0;36mforward\u001b[0;34m(self, input)\u001b[0m\n\u001b[1;32m    277\u001b[0m         return RobustGlobalPool2dFn.apply(input,\n\u001b[1;32m    278\u001b[0m                                           \u001b[0mself\u001b[0m\u001b[0;34m.\u001b[0m\u001b[0mmethod\u001b[0m\u001b[0;34m,\u001b[0m\u001b[0;34m\u001b[0m\u001b[0;34m\u001b[0m\u001b[0m\n\u001b[0;32m--> 279\u001b[0;31m                                           \u001b[0mself\u001b[0m\u001b[0;34m.\u001b[0m\u001b[0malpha\u001b[0m\u001b[0;34m\u001b[0m\u001b[0;34m\u001b[0m\u001b[0m\n\u001b[0m\u001b[1;32m    280\u001b[0m                                           )\n\u001b[1;32m    281\u001b[0m \u001b[0;34m\u001b[0m\u001b[0m\n",
      "\u001b[0;32m~/cvx_final/ddn/ddn/pytorch/robustpool.py\u001b[0m in \u001b[0;36mforward\u001b[0;34m(ctx, x, method, alpha)\u001b[0m\n\u001b[1;32m    240\u001b[0m             \u001b[0;31m# ToDo: multiple random starts\u001b[0m\u001b[0;34m\u001b[0m\u001b[0;34m\u001b[0m\u001b[0;34m\u001b[0m\u001b[0m\n\u001b[1;32m    241\u001b[0m             \u001b[0my_mean\u001b[0m \u001b[0;34m=\u001b[0m \u001b[0mx\u001b[0m\u001b[0;34m.\u001b[0m\u001b[0mmean\u001b[0m\u001b[0;34m(\u001b[0m\u001b[0;34m[\u001b[0m\u001b[0;34m-\u001b[0m\u001b[0;36m2\u001b[0m\u001b[0;34m,\u001b[0m \u001b[0;34m-\u001b[0m\u001b[0;36m1\u001b[0m\u001b[0;34m]\u001b[0m\u001b[0;34m)\u001b[0m\u001b[0;34m.\u001b[0m\u001b[0mclone\u001b[0m\u001b[0;34m(\u001b[0m\u001b[0;34m)\u001b[0m\u001b[0;34m.\u001b[0m\u001b[0mrequires_grad_\u001b[0m\u001b[0;34m(\u001b[0m\u001b[0;34m)\u001b[0m\u001b[0;34m\u001b[0m\u001b[0;34m\u001b[0m\u001b[0m\n\u001b[0;32m--> 242\u001b[0;31m             \u001b[0my_mean\u001b[0m \u001b[0;34m=\u001b[0m \u001b[0mRobustGlobalPool2dFn\u001b[0m\u001b[0;34m.\u001b[0m\u001b[0mrunOptimisation\u001b[0m\u001b[0;34m(\u001b[0m\u001b[0mx\u001b[0m\u001b[0;34m,\u001b[0m \u001b[0my_mean\u001b[0m\u001b[0;34m,\u001b[0m \u001b[0mmethod\u001b[0m\u001b[0;34m,\u001b[0m \u001b[0malpha_scalar\u001b[0m\u001b[0;34m)\u001b[0m\u001b[0;34m\u001b[0m\u001b[0;34m\u001b[0m\u001b[0m\n\u001b[0m\u001b[1;32m    243\u001b[0m             \u001b[0my_median\u001b[0m \u001b[0;34m=\u001b[0m \u001b[0mx\u001b[0m\u001b[0;34m.\u001b[0m\u001b[0mflatten\u001b[0m\u001b[0;34m(\u001b[0m\u001b[0mstart_dim\u001b[0m\u001b[0;34m=\u001b[0m\u001b[0;34m-\u001b[0m\u001b[0;36m2\u001b[0m\u001b[0;34m)\u001b[0m\u001b[0;34m.\u001b[0m\u001b[0mmedian\u001b[0m\u001b[0;34m(\u001b[0m\u001b[0mdim\u001b[0m\u001b[0;34m=\u001b[0m\u001b[0;34m-\u001b[0m\u001b[0;36m1\u001b[0m\u001b[0;34m)\u001b[0m\u001b[0;34m[\u001b[0m\u001b[0;36m0\u001b[0m\u001b[0;34m]\u001b[0m\u001b[0;34m.\u001b[0m\u001b[0mclone\u001b[0m\u001b[0;34m(\u001b[0m\u001b[0;34m)\u001b[0m\u001b[0;34m.\u001b[0m\u001b[0mrequires_grad_\u001b[0m\u001b[0;34m(\u001b[0m\u001b[0;34m)\u001b[0m\u001b[0;34m\u001b[0m\u001b[0;34m\u001b[0m\u001b[0m\n\u001b[1;32m    244\u001b[0m             \u001b[0my_median\u001b[0m \u001b[0;34m=\u001b[0m \u001b[0mRobustGlobalPool2dFn\u001b[0m\u001b[0;34m.\u001b[0m\u001b[0mrunOptimisation\u001b[0m\u001b[0;34m(\u001b[0m\u001b[0mx\u001b[0m\u001b[0;34m,\u001b[0m \u001b[0my_median\u001b[0m\u001b[0;34m,\u001b[0m \u001b[0mmethod\u001b[0m\u001b[0;34m,\u001b[0m \u001b[0malpha_scalar\u001b[0m\u001b[0;34m)\u001b[0m\u001b[0;34m\u001b[0m\u001b[0;34m\u001b[0m\u001b[0m\n",
      "\u001b[0;32m~/cvx_final/ddn/ddn/pytorch/robustpool.py\u001b[0m in \u001b[0;36mrunOptimisation\u001b[0;34m(x, y, method, alpha_scalar)\u001b[0m\n\u001b[1;32m    220\u001b[0m                 \u001b[0mf\u001b[0m\u001b[0;34m.\u001b[0m\u001b[0mbackward\u001b[0m\u001b[0;34m(\u001b[0m\u001b[0;34m)\u001b[0m\u001b[0;34m\u001b[0m\u001b[0;34m\u001b[0m\u001b[0m\n\u001b[1;32m    221\u001b[0m                 \u001b[0;32mreturn\u001b[0m \u001b[0mf\u001b[0m\u001b[0;34m\u001b[0m\u001b[0;34m\u001b[0m\u001b[0m\n\u001b[0;32m--> 222\u001b[0;31m             \u001b[0mopt\u001b[0m\u001b[0;34m.\u001b[0m\u001b[0mstep\u001b[0m\u001b[0;34m(\u001b[0m\u001b[0mreevaluate\u001b[0m\u001b[0;34m)\u001b[0m\u001b[0;34m\u001b[0m\u001b[0;34m\u001b[0m\u001b[0m\n\u001b[0m\u001b[1;32m    223\u001b[0m         \u001b[0;32mreturn\u001b[0m \u001b[0my\u001b[0m\u001b[0;34m\u001b[0m\u001b[0;34m\u001b[0m\u001b[0m\n\u001b[1;32m    224\u001b[0m \u001b[0;34m\u001b[0m\u001b[0m\n",
      "\u001b[0;32m~/egor_torch/lib/python3.6/site-packages/torch/autograd/grad_mode.py\u001b[0m in \u001b[0;36mdecorate_context\u001b[0;34m(*args, **kwargs)\u001b[0m\n\u001b[1;32m     13\u001b[0m         \u001b[0;32mdef\u001b[0m \u001b[0mdecorate_context\u001b[0m\u001b[0;34m(\u001b[0m\u001b[0;34m*\u001b[0m\u001b[0margs\u001b[0m\u001b[0;34m,\u001b[0m \u001b[0;34m**\u001b[0m\u001b[0mkwargs\u001b[0m\u001b[0;34m)\u001b[0m\u001b[0;34m:\u001b[0m\u001b[0;34m\u001b[0m\u001b[0;34m\u001b[0m\u001b[0m\n\u001b[1;32m     14\u001b[0m             \u001b[0;32mwith\u001b[0m \u001b[0mself\u001b[0m\u001b[0;34m:\u001b[0m\u001b[0;34m\u001b[0m\u001b[0;34m\u001b[0m\u001b[0m\n\u001b[0;32m---> 15\u001b[0;31m                 \u001b[0;32mreturn\u001b[0m \u001b[0mfunc\u001b[0m\u001b[0;34m(\u001b[0m\u001b[0;34m*\u001b[0m\u001b[0margs\u001b[0m\u001b[0;34m,\u001b[0m \u001b[0;34m**\u001b[0m\u001b[0mkwargs\u001b[0m\u001b[0;34m)\u001b[0m\u001b[0;34m\u001b[0m\u001b[0;34m\u001b[0m\u001b[0m\n\u001b[0m\u001b[1;32m     16\u001b[0m         \u001b[0;32mreturn\u001b[0m \u001b[0mdecorate_context\u001b[0m\u001b[0;34m\u001b[0m\u001b[0;34m\u001b[0m\u001b[0m\n\u001b[1;32m     17\u001b[0m \u001b[0;34m\u001b[0m\u001b[0m\n",
      "\u001b[0;32m~/egor_torch/lib/python3.6/site-packages/torch/optim/lbfgs.py\u001b[0m in \u001b[0;36mstep\u001b[0;34m(self, closure)\u001b[0m\n\u001b[1;32m    435\u001b[0m                     \u001b[0;31m# no use to re-evaluate that function here\u001b[0m\u001b[0;34m\u001b[0m\u001b[0;34m\u001b[0m\u001b[0;34m\u001b[0m\u001b[0m\n\u001b[1;32m    436\u001b[0m                     \u001b[0;32mwith\u001b[0m \u001b[0mtorch\u001b[0m\u001b[0;34m.\u001b[0m\u001b[0menable_grad\u001b[0m\u001b[0;34m(\u001b[0m\u001b[0;34m)\u001b[0m\u001b[0;34m:\u001b[0m\u001b[0;34m\u001b[0m\u001b[0;34m\u001b[0m\u001b[0m\n\u001b[0;32m--> 437\u001b[0;31m                         \u001b[0mloss\u001b[0m \u001b[0;34m=\u001b[0m \u001b[0mfloat\u001b[0m\u001b[0;34m(\u001b[0m\u001b[0mclosure\u001b[0m\u001b[0;34m(\u001b[0m\u001b[0;34m)\u001b[0m\u001b[0;34m)\u001b[0m\u001b[0;34m\u001b[0m\u001b[0;34m\u001b[0m\u001b[0m\n\u001b[0m\u001b[1;32m    438\u001b[0m                     \u001b[0mflat_grad\u001b[0m \u001b[0;34m=\u001b[0m \u001b[0mself\u001b[0m\u001b[0;34m.\u001b[0m\u001b[0m_gather_flat_grad\u001b[0m\u001b[0;34m(\u001b[0m\u001b[0;34m)\u001b[0m\u001b[0;34m\u001b[0m\u001b[0;34m\u001b[0m\u001b[0m\n\u001b[1;32m    439\u001b[0m                     \u001b[0mopt_cond\u001b[0m \u001b[0;34m=\u001b[0m \u001b[0mflat_grad\u001b[0m\u001b[0;34m.\u001b[0m\u001b[0mabs\u001b[0m\u001b[0;34m(\u001b[0m\u001b[0;34m)\u001b[0m\u001b[0;34m.\u001b[0m\u001b[0mmax\u001b[0m\u001b[0;34m(\u001b[0m\u001b[0;34m)\u001b[0m \u001b[0;34m<=\u001b[0m \u001b[0mtolerance_grad\u001b[0m\u001b[0;34m\u001b[0m\u001b[0;34m\u001b[0m\u001b[0m\n",
      "\u001b[0;32m~/egor_torch/lib/python3.6/site-packages/torch/autograd/grad_mode.py\u001b[0m in \u001b[0;36mdecorate_context\u001b[0;34m(*args, **kwargs)\u001b[0m\n\u001b[1;32m     13\u001b[0m         \u001b[0;32mdef\u001b[0m \u001b[0mdecorate_context\u001b[0m\u001b[0;34m(\u001b[0m\u001b[0;34m*\u001b[0m\u001b[0margs\u001b[0m\u001b[0;34m,\u001b[0m \u001b[0;34m**\u001b[0m\u001b[0mkwargs\u001b[0m\u001b[0;34m)\u001b[0m\u001b[0;34m:\u001b[0m\u001b[0;34m\u001b[0m\u001b[0;34m\u001b[0m\u001b[0m\n\u001b[1;32m     14\u001b[0m             \u001b[0;32mwith\u001b[0m \u001b[0mself\u001b[0m\u001b[0;34m:\u001b[0m\u001b[0;34m\u001b[0m\u001b[0;34m\u001b[0m\u001b[0m\n\u001b[0;32m---> 15\u001b[0;31m                 \u001b[0;32mreturn\u001b[0m \u001b[0mfunc\u001b[0m\u001b[0;34m(\u001b[0m\u001b[0;34m*\u001b[0m\u001b[0margs\u001b[0m\u001b[0;34m,\u001b[0m \u001b[0;34m**\u001b[0m\u001b[0mkwargs\u001b[0m\u001b[0;34m)\u001b[0m\u001b[0;34m\u001b[0m\u001b[0;34m\u001b[0m\u001b[0m\n\u001b[0m\u001b[1;32m     16\u001b[0m         \u001b[0;32mreturn\u001b[0m \u001b[0mdecorate_context\u001b[0m\u001b[0;34m\u001b[0m\u001b[0;34m\u001b[0m\u001b[0m\n\u001b[1;32m     17\u001b[0m \u001b[0;34m\u001b[0m\u001b[0m\n",
      "\u001b[0;32m~/cvx_final/ddn/ddn/pytorch/robustpool.py\u001b[0m in \u001b[0;36mreevaluate\u001b[0;34m()\u001b[0m\n\u001b[1;32m    217\u001b[0m                 \u001b[0mopt\u001b[0m\u001b[0;34m.\u001b[0m\u001b[0mzero_grad\u001b[0m\u001b[0;34m(\u001b[0m\u001b[0;34m)\u001b[0m\u001b[0;34m\u001b[0m\u001b[0;34m\u001b[0m\u001b[0m\n\u001b[1;32m    218\u001b[0m                 \u001b[0;31m# Sum cost function across residuals and batch (all fi are positive)\u001b[0m\u001b[0;34m\u001b[0m\u001b[0;34m\u001b[0m\u001b[0;34m\u001b[0m\u001b[0m\n\u001b[0;32m--> 219\u001b[0;31m                 \u001b[0mf\u001b[0m \u001b[0;34m=\u001b[0m \u001b[0mmethod\u001b[0m\u001b[0;34m.\u001b[0m\u001b[0mphi\u001b[0m\u001b[0;34m(\u001b[0m\u001b[0my\u001b[0m\u001b[0;34m.\u001b[0m\u001b[0munsqueeze\u001b[0m\u001b[0;34m(\u001b[0m\u001b[0;34m-\u001b[0m\u001b[0;36m1\u001b[0m\u001b[0;34m)\u001b[0m\u001b[0;34m.\u001b[0m\u001b[0munsqueeze\u001b[0m\u001b[0;34m(\u001b[0m\u001b[0;34m-\u001b[0m\u001b[0;36m1\u001b[0m\u001b[0;34m)\u001b[0m \u001b[0;34m-\u001b[0m \u001b[0mx\u001b[0m\u001b[0;34m,\u001b[0m \u001b[0malpha\u001b[0m\u001b[0;34m=\u001b[0m\u001b[0malpha_scalar\u001b[0m\u001b[0;34m)\u001b[0m\u001b[0;34m.\u001b[0m\u001b[0msum\u001b[0m\u001b[0;34m(\u001b[0m\u001b[0;34m)\u001b[0m\u001b[0;34m\u001b[0m\u001b[0;34m\u001b[0m\u001b[0m\n\u001b[0m\u001b[1;32m    220\u001b[0m                 \u001b[0mf\u001b[0m\u001b[0;34m.\u001b[0m\u001b[0mbackward\u001b[0m\u001b[0;34m(\u001b[0m\u001b[0;34m)\u001b[0m\u001b[0;34m\u001b[0m\u001b[0;34m\u001b[0m\u001b[0m\n\u001b[1;32m    221\u001b[0m                 \u001b[0;32mreturn\u001b[0m \u001b[0mf\u001b[0m\u001b[0;34m\u001b[0m\u001b[0;34m\u001b[0m\u001b[0m\n",
      "\u001b[0;32m~/cvx_final/ddn/ddn/pytorch/robustpool.py\u001b[0m in \u001b[0;36mphi\u001b[0;34m(z, alpha)\u001b[0m\n\u001b[1;32m    146\u001b[0m         \"\"\"\n\u001b[1;32m    147\u001b[0m         \u001b[0;32massert\u001b[0m \u001b[0malpha\u001b[0m \u001b[0;34m>\u001b[0m \u001b[0;36m0.0\u001b[0m\u001b[0;34m,\u001b[0m \u001b[0;34m\"alpha must be strictly positive (%f <= 0)\"\u001b[0m \u001b[0;34m%\u001b[0m \u001b[0malpha\u001b[0m\u001b[0;34m\u001b[0m\u001b[0;34m\u001b[0m\u001b[0m\n\u001b[0;32m--> 148\u001b[0;31m         \u001b[0mphi_at_z\u001b[0m \u001b[0;34m=\u001b[0m \u001b[0;36m1.0\u001b[0m \u001b[0;34m-\u001b[0m \u001b[0mtorch\u001b[0m\u001b[0;34m.\u001b[0m\u001b[0mexp\u001b[0m\u001b[0;34m(\u001b[0m\u001b[0;34m-\u001b[0m\u001b[0mtorch\u001b[0m\u001b[0;34m.\u001b[0m\u001b[0mpow\u001b[0m\u001b[0;34m(\u001b[0m\u001b[0mz\u001b[0m\u001b[0;34m,\u001b[0m \u001b[0;36m2\u001b[0m\u001b[0;34m)\u001b[0m \u001b[0;34m/\u001b[0m \u001b[0;34m(\u001b[0m\u001b[0;36m2.0\u001b[0m \u001b[0;34m*\u001b[0m \u001b[0malpha\u001b[0m \u001b[0;34m*\u001b[0m \u001b[0malpha\u001b[0m\u001b[0;34m)\u001b[0m\u001b[0;34m)\u001b[0m\u001b[0;34m\u001b[0m\u001b[0;34m\u001b[0m\u001b[0m\n\u001b[0m\u001b[1;32m    149\u001b[0m         \u001b[0;32mreturn\u001b[0m \u001b[0mphi_at_z\u001b[0m\u001b[0;34m\u001b[0m\u001b[0;34m\u001b[0m\u001b[0m\n\u001b[1;32m    150\u001b[0m \u001b[0;34m\u001b[0m\u001b[0m\n",
      "\u001b[0;31mKeyboardInterrupt\u001b[0m: "
     ]
    }
   ],
   "source": [
    "robust_model_accs = []\n",
    "for epsilon in epsilons:\n",
    "    acc = test_attack(best_model, test_dataset, epsilon)\n",
    "    robust_model_accs.append(acc)\n",
    "print(robust_model_accs)"
   ]
  },
  {
   "cell_type": "code",
   "execution_count": 64,
   "metadata": {},
   "outputs": [],
   "source": [
    "frac_standard = np.array(standard_model_accs) / standard_model_accs[0]\n",
    "frac_robust = np.array(robust_model_accs) / robust_model_accs[0]"
   ]
  },
  {
   "cell_type": "code",
   "execution_count": 65,
   "metadata": {},
   "outputs": [],
   "source": [
    "plt.plot(epsilons, frac_standard, label=\"Basic\")\n",
    "plt.plot(epsilons, frac_robust, label=\"Robust\")\n",
    "plt.legend()\n",
    "plt.show()"
   ]
  },
  {
   "cell_type": "markdown",
   "metadata": {},
   "source": [
    "## torchattacks"
   ]
  },
  {
   "cell_type": "code",
   "execution_count": 26,
   "metadata": {},
   "outputs": [],
   "source": [
    "#     n_predictions = 0\n",
    "#     n_correct = 0\n",
    "\n",
    "#     with torch.no_grad():\n",
    "#         for X_batch, y_batch in batches:\n",
    "#             y_pred = torch.argmax(model.forward(X_batch.to(DEVICE)), dim=1).cpu()\n",
    "#             n_correct += (y_pred == y_batch).sum().item()\n",
    "#             n_predictions += y_batch.shape[0]\n",
    "    \n",
    "#     return n_correct / n_predictions\n",
    "\n",
    "\n",
    "def test_attack_torchattack(model, dataset, epsilon, batch_size):\n",
    "    attack = torchattacks.FGSM(model, eps=epsilon)\n",
    "    loader = torch.utils.data.DataLoader(dataset, batch_size=batch_size, num_workers=4, shuffle=False)\n",
    "    \n",
    "    n_correct = 0\n",
    "    n_predictions = 0\n",
    "    \n",
    "    for image_batch, label_batch in loader:\n",
    "        \n",
    "        image_batch = image_batch.to(DEVICE)\n",
    "        label_batch = label_batch.to(DEVICE)\n",
    "        adversarial_images = attack(image_batch, label_batch)\n",
    "        \n",
    "        with torch.no_grad():\n",
    "            y_pred = torch.argmax(model.forward(adversarial_images), dim=1)\n",
    "            n_correct += (y_pred == label_batch).sum().item()\n",
    "            n_predictions += label_batch.shape[0]\n",
    "            \n",
    "    return n_correct / n_predictions\n",
    "\n",
    "def test_attack_torchattack(model, dataset, epsilon, batch_size):\n",
    "    attack = torchattacks.FGSM(model, eps=epsilon)\n",
    "    loader = torch.utils.data.DataLoader(dataset, batch_size=batch_size, num_workers=4, shuffle=False)\n",
    "    \n",
    "    n_correct = 0\n",
    "    n_predictions = 0\n",
    "    \n",
    "    for image_batch, label_batch in loader:\n",
    "        \n",
    "        image_batch = image_batch.to(DEVICE)\n",
    "        label_batch = label_batch.to(DEVICE)\n",
    "        adversarial_images = attack(image_batch, label_batch)\n",
    "        \n",
    "        with torch.no_grad():\n",
    "            y_pred = torch.argmax(model.forward(adversarial_images), dim=1)\n",
    "            n_correct += (y_pred == label_batch).sum().item()\n",
    "            n_predictions += label_batch.shape[0]\n",
    "            \n",
    "    return n_correct / n_predictions\n",
    "\n",
    "def test_attack_gn(model, dataset, epsilon, batch_size):\n",
    "    attack = torchattacks.GN(model)\n",
    "    loader = torch.utils.data.DataLoader(dataset, batch_size=batch_size, num_workers=4, shuffle=False)\n",
    "    \n",
    "    n_correct = 0\n",
    "    n_predictions = 0\n",
    "    \n",
    "    for image_batch, label_batch in loader:\n",
    "        \n",
    "        image_batch = image_batch.to(DEVICE)\n",
    "        label_batch = label_batch.to(DEVICE)\n",
    "        adversarial_images = attack(image_batch, label_batch)\n",
    "        \n",
    "        with torch.no_grad():\n",
    "            y_pred = torch.argmax(model.forward(adversarial_images), dim=1)\n",
    "            n_correct += (y_pred == label_batch).sum().item()\n",
    "            n_predictions += label_batch.shape[0]\n",
    "            \n",
    "    return n_correct / n_predictions"
   ]
  },
  {
   "cell_type": "code",
   "execution_count": 27,
   "metadata": {},
   "outputs": [],
   "source": [
    "best_model = RobustPoolResNet(num_classes=N_CLASSES)\n",
    "best_model = best_model.to(DEVICE)\n",
    "best_model.load_state_dict(torch.load(\"resnet34_pseudo_welsch.pth.tar\"))\n",
    "best_model = best_model.eval()"
   ]
  },
  {
   "cell_type": "code",
   "execution_count": 28,
   "metadata": {},
   "outputs": [
    {
     "data": {
      "text/plain": [
       "0.8210628961482204"
      ]
     },
     "execution_count": 28,
     "metadata": {},
     "output_type": "execute_result"
    }
   ],
   "source": [
    "test_attack_torchattack(best_model, test_dataset, epsilon=0.0, batch_size=128)"
   ]
  },
  {
   "cell_type": "code",
   "execution_count": 29,
   "metadata": {},
   "outputs": [
    {
     "data": {
      "text/plain": [
       "0.8210628961482204"
      ]
     },
     "execution_count": 29,
     "metadata": {},
     "output_type": "execute_result"
    }
   ],
   "source": [
    "calculate_accuracy_dataset(best_model, test_dataset, 128)"
   ]
  },
  {
   "cell_type": "markdown",
   "metadata": {},
   "source": [
    "## torchattacks: evaluation"
   ]
  },
  {
   "cell_type": "code",
   "execution_count": 30,
   "metadata": {},
   "outputs": [],
   "source": [
    "epsilons = np.array([0, 0.05, 0.1, 0.15, 0.2, 0.25, 0.3])"
   ]
  },
  {
   "cell_type": "code",
   "execution_count": 39,
   "metadata": {},
   "outputs": [],
   "source": [
    "best_model = torchvision.models.resnet34(pretrained=False, num_classes=N_CLASSES)\n",
    "best_model = best_model.to(DEVICE)\n",
    "best_model.load_state_dict(torch.load(\"resnet34_basic.pth.tar\"))\n",
    "best_model = best_model.eval()\n",
    "\n",
    "basic_model_accs = []\n",
    "for epsilon in epsilons:\n",
    "    acc = test_attack_torchattack(best_model, test_dataset, epsilon=epsilon, batch_size=128)\n",
    "    basic_model_accs.append(acc)\n",
    "basic_model_accs = np.array(basic_model_accs)"
   ]
  },
  {
   "cell_type": "code",
   "execution_count": 63,
   "metadata": {},
   "outputs": [
    {
     "data": {
      "text/plain": [
       "array([0.7766943 , 0.02242808, 0.00975134, 0.01121404, 0.03217942,\n",
       "       0.06533398, 0.08824963])"
      ]
     },
     "execution_count": 63,
     "metadata": {},
     "output_type": "execute_result"
    }
   ],
   "source": [
    "basic_model_accs"
   ]
  },
  {
   "cell_type": "code",
   "execution_count": 65,
   "metadata": {},
   "outputs": [],
   "source": [
    "robust_model_accs = np.array(robust_model_accs)"
   ]
  },
  {
   "cell_type": "code",
   "execution_count": 62,
   "metadata": {},
   "outputs": [
    {
     "ename": "RuntimeError",
     "evalue": "Error(s) in loading state_dict for RobustPoolResNet:\n\tUnexpected key(s) in state_dict: \"_model.layer1.2.conv1.weight\", \"_model.layer1.2.bn1.weight\", \"_model.layer1.2.bn1.bias\", \"_model.layer1.2.bn1.running_mean\", \"_model.layer1.2.bn1.running_var\", \"_model.layer1.2.bn1.num_batches_tracked\", \"_model.layer1.2.conv2.weight\", \"_model.layer1.2.bn2.weight\", \"_model.layer1.2.bn2.bias\", \"_model.layer1.2.bn2.running_mean\", \"_model.layer1.2.bn2.running_var\", \"_model.layer1.2.bn2.num_batches_tracked\", \"_model.layer2.2.conv1.weight\", \"_model.layer2.2.bn1.weight\", \"_model.layer2.2.bn1.bias\", \"_model.layer2.2.bn1.running_mean\", \"_model.layer2.2.bn1.running_var\", \"_model.layer2.2.bn1.num_batches_tracked\", \"_model.layer2.2.conv2.weight\", \"_model.layer2.2.bn2.weight\", \"_model.layer2.2.bn2.bias\", \"_model.layer2.2.bn2.running_mean\", \"_model.layer2.2.bn2.running_var\", \"_model.layer2.2.bn2.num_batches_tracked\", \"_model.layer2.3.conv1.weight\", \"_model.layer2.3.bn1.weight\", \"_model.layer2.3.bn1.bias\", \"_model.layer2.3.bn1.running_mean\", \"_model.layer2.3.bn1.running_var\", \"_model.layer2.3.bn1.num_batches_tracked\", \"_model.layer2.3.conv2.weight\", \"_model.layer2.3.bn2.weight\", \"_model.layer2.3.bn2.bias\", \"_model.layer2.3.bn2.running_mean\", \"_model.layer2.3.bn2.running_var\", \"_model.layer2.3.bn2.num_batches_tracked\", \"_model.layer3.2.conv1.weight\", \"_model.layer3.2.bn1.weight\", \"_model.layer3.2.bn1.bias\", \"_model.layer3.2.bn1.running_mean\", \"_model.layer3.2.bn1.running_var\", \"_model.layer3.2.bn1.num_batches_tracked\", \"_model.layer3.2.conv2.weight\", \"_model.layer3.2.bn2.weight\", \"_model.layer3.2.bn2.bias\", \"_model.layer3.2.bn2.running_mean\", \"_model.layer3.2.bn2.running_var\", \"_model.layer3.2.bn2.num_batches_tracked\", \"_model.layer3.3.conv1.weight\", \"_model.layer3.3.bn1.weight\", \"_model.layer3.3.bn1.bias\", \"_model.layer3.3.bn1.running_mean\", \"_model.layer3.3.bn1.running_var\", \"_model.layer3.3.bn1.num_batches_tracked\", \"_model.layer3.3.conv2.weight\", \"_model.layer3.3.bn2.weight\", \"_model.layer3.3.bn2.bias\", \"_model.layer3.3.bn2.running_mean\", \"_model.layer3.3.bn2.running_var\", \"_model.layer3.3.bn2.num_batches_tracked\", \"_model.layer3.4.conv1.weight\", \"_model.layer3.4.bn1.weight\", \"_model.layer3.4.bn1.bias\", \"_model.layer3.4.bn1.running_mean\", \"_model.layer3.4.bn1.running_var\", \"_model.layer3.4.bn1.num_batches_tracked\", \"_model.layer3.4.conv2.weight\", \"_model.layer3.4.bn2.weight\", \"_model.layer3.4.bn2.bias\", \"_model.layer3.4.bn2.running_mean\", \"_model.layer3.4.bn2.running_var\", \"_model.layer3.4.bn2.num_batches_tracked\", \"_model.layer3.5.conv1.weight\", \"_model.layer3.5.bn1.weight\", \"_model.layer3.5.bn1.bias\", \"_model.layer3.5.bn1.running_mean\", \"_model.layer3.5.bn1.running_var\", \"_model.layer3.5.bn1.num_batches_tracked\", \"_model.layer3.5.conv2.weight\", \"_model.layer3.5.bn2.weight\", \"_model.layer3.5.bn2.bias\", \"_model.layer3.5.bn2.running_mean\", \"_model.layer3.5.bn2.running_var\", \"_model.layer3.5.bn2.num_batches_tracked\", \"_model.layer4.2.conv1.weight\", \"_model.layer4.2.bn1.weight\", \"_model.layer4.2.bn1.bias\", \"_model.layer4.2.bn1.running_mean\", \"_model.layer4.2.bn1.running_var\", \"_model.layer4.2.bn1.num_batches_tracked\", \"_model.layer4.2.conv2.weight\", \"_model.layer4.2.bn2.weight\", \"_model.layer4.2.bn2.bias\", \"_model.layer4.2.bn2.running_mean\", \"_model.layer4.2.bn2.running_var\", \"_model.layer4.2.bn2.num_batches_tracked\". ",
     "output_type": "error",
     "traceback": [
      "\u001b[0;31m---------------------------------------------------------------------------\u001b[0m",
      "\u001b[0;31mRuntimeError\u001b[0m                              Traceback (most recent call last)",
      "\u001b[0;32m<ipython-input-62-a18d76e4da4e>\u001b[0m in \u001b[0;36m<module>\u001b[0;34m\u001b[0m\n\u001b[1;32m      1\u001b[0m \u001b[0mbest_model\u001b[0m \u001b[0;34m=\u001b[0m \u001b[0mRobustPoolResNet\u001b[0m\u001b[0;34m(\u001b[0m\u001b[0mnum_classes\u001b[0m\u001b[0;34m=\u001b[0m\u001b[0mN_CLASSES\u001b[0m\u001b[0;34m)\u001b[0m\u001b[0;34m\u001b[0m\u001b[0;34m\u001b[0m\u001b[0m\n\u001b[1;32m      2\u001b[0m \u001b[0mbest_model\u001b[0m \u001b[0;34m=\u001b[0m \u001b[0mbest_model\u001b[0m\u001b[0;34m.\u001b[0m\u001b[0mto\u001b[0m\u001b[0;34m(\u001b[0m\u001b[0mDEVICE\u001b[0m\u001b[0;34m)\u001b[0m\u001b[0;34m\u001b[0m\u001b[0;34m\u001b[0m\u001b[0m\n\u001b[0;32m----> 3\u001b[0;31m \u001b[0mbest_model\u001b[0m\u001b[0;34m.\u001b[0m\u001b[0mload_state_dict\u001b[0m\u001b[0;34m(\u001b[0m\u001b[0mtorch\u001b[0m\u001b[0;34m.\u001b[0m\u001b[0mload\u001b[0m\u001b[0;34m(\u001b[0m\u001b[0;34m\"resnet34_pseudo_welsch.pth.tar\"\u001b[0m\u001b[0;34m)\u001b[0m\u001b[0;34m)\u001b[0m\u001b[0;34m\u001b[0m\u001b[0;34m\u001b[0m\u001b[0m\n\u001b[0m\u001b[1;32m      4\u001b[0m \u001b[0mbest_model\u001b[0m \u001b[0;34m=\u001b[0m \u001b[0mbest_model\u001b[0m\u001b[0;34m.\u001b[0m\u001b[0meval\u001b[0m\u001b[0;34m(\u001b[0m\u001b[0;34m)\u001b[0m\u001b[0;34m\u001b[0m\u001b[0;34m\u001b[0m\u001b[0m\n\u001b[1;32m      5\u001b[0m \u001b[0;34m\u001b[0m\u001b[0m\n",
      "\u001b[0;32m~/egor_torch/lib/python3.6/site-packages/torch/nn/modules/module.py\u001b[0m in \u001b[0;36mload_state_dict\u001b[0;34m(self, state_dict, strict)\u001b[0m\n\u001b[1;32m    845\u001b[0m         \u001b[0;32mif\u001b[0m \u001b[0mlen\u001b[0m\u001b[0;34m(\u001b[0m\u001b[0merror_msgs\u001b[0m\u001b[0;34m)\u001b[0m \u001b[0;34m>\u001b[0m \u001b[0;36m0\u001b[0m\u001b[0;34m:\u001b[0m\u001b[0;34m\u001b[0m\u001b[0;34m\u001b[0m\u001b[0m\n\u001b[1;32m    846\u001b[0m             raise RuntimeError('Error(s) in loading state_dict for {}:\\n\\t{}'.format(\n\u001b[0;32m--> 847\u001b[0;31m                                self.__class__.__name__, \"\\n\\t\".join(error_msgs)))\n\u001b[0m\u001b[1;32m    848\u001b[0m         \u001b[0;32mreturn\u001b[0m \u001b[0m_IncompatibleKeys\u001b[0m\u001b[0;34m(\u001b[0m\u001b[0mmissing_keys\u001b[0m\u001b[0;34m,\u001b[0m \u001b[0munexpected_keys\u001b[0m\u001b[0;34m)\u001b[0m\u001b[0;34m\u001b[0m\u001b[0;34m\u001b[0m\u001b[0m\n\u001b[1;32m    849\u001b[0m \u001b[0;34m\u001b[0m\u001b[0m\n",
      "\u001b[0;31mRuntimeError\u001b[0m: Error(s) in loading state_dict for RobustPoolResNet:\n\tUnexpected key(s) in state_dict: \"_model.layer1.2.conv1.weight\", \"_model.layer1.2.bn1.weight\", \"_model.layer1.2.bn1.bias\", \"_model.layer1.2.bn1.running_mean\", \"_model.layer1.2.bn1.running_var\", \"_model.layer1.2.bn1.num_batches_tracked\", \"_model.layer1.2.conv2.weight\", \"_model.layer1.2.bn2.weight\", \"_model.layer1.2.bn2.bias\", \"_model.layer1.2.bn2.running_mean\", \"_model.layer1.2.bn2.running_var\", \"_model.layer1.2.bn2.num_batches_tracked\", \"_model.layer2.2.conv1.weight\", \"_model.layer2.2.bn1.weight\", \"_model.layer2.2.bn1.bias\", \"_model.layer2.2.bn1.running_mean\", \"_model.layer2.2.bn1.running_var\", \"_model.layer2.2.bn1.num_batches_tracked\", \"_model.layer2.2.conv2.weight\", \"_model.layer2.2.bn2.weight\", \"_model.layer2.2.bn2.bias\", \"_model.layer2.2.bn2.running_mean\", \"_model.layer2.2.bn2.running_var\", \"_model.layer2.2.bn2.num_batches_tracked\", \"_model.layer2.3.conv1.weight\", \"_model.layer2.3.bn1.weight\", \"_model.layer2.3.bn1.bias\", \"_model.layer2.3.bn1.running_mean\", \"_model.layer2.3.bn1.running_var\", \"_model.layer2.3.bn1.num_batches_tracked\", \"_model.layer2.3.conv2.weight\", \"_model.layer2.3.bn2.weight\", \"_model.layer2.3.bn2.bias\", \"_model.layer2.3.bn2.running_mean\", \"_model.layer2.3.bn2.running_var\", \"_model.layer2.3.bn2.num_batches_tracked\", \"_model.layer3.2.conv1.weight\", \"_model.layer3.2.bn1.weight\", \"_model.layer3.2.bn1.bias\", \"_model.layer3.2.bn1.running_mean\", \"_model.layer3.2.bn1.running_var\", \"_model.layer3.2.bn1.num_batches_tracked\", \"_model.layer3.2.conv2.weight\", \"_model.layer3.2.bn2.weight\", \"_model.layer3.2.bn2.bias\", \"_model.layer3.2.bn2.running_mean\", \"_model.layer3.2.bn2.running_var\", \"_model.layer3.2.bn2.num_batches_tracked\", \"_model.layer3.3.conv1.weight\", \"_model.layer3.3.bn1.weight\", \"_model.layer3.3.bn1.bias\", \"_model.layer3.3.bn1.running_mean\", \"_model.layer3.3.bn1.running_var\", \"_model.layer3.3.bn1.num_batches_tracked\", \"_model.layer3.3.conv2.weight\", \"_model.layer3.3.bn2.weight\", \"_model.layer3.3.bn2.bias\", \"_model.layer3.3.bn2.running_mean\", \"_model.layer3.3.bn2.running_var\", \"_model.layer3.3.bn2.num_batches_tracked\", \"_model.layer3.4.conv1.weight\", \"_model.layer3.4.bn1.weight\", \"_model.layer3.4.bn1.bias\", \"_model.layer3.4.bn1.running_mean\", \"_model.layer3.4.bn1.running_var\", \"_model.layer3.4.bn1.num_batches_tracked\", \"_model.layer3.4.conv2.weight\", \"_model.layer3.4.bn2.weight\", \"_model.layer3.4.bn2.bias\", \"_model.layer3.4.bn2.running_mean\", \"_model.layer3.4.bn2.running_var\", \"_model.layer3.4.bn2.num_batches_tracked\", \"_model.layer3.5.conv1.weight\", \"_model.layer3.5.bn1.weight\", \"_model.layer3.5.bn1.bias\", \"_model.layer3.5.bn1.running_mean\", \"_model.layer3.5.bn1.running_var\", \"_model.layer3.5.bn1.num_batches_tracked\", \"_model.layer3.5.conv2.weight\", \"_model.layer3.5.bn2.weight\", \"_model.layer3.5.bn2.bias\", \"_model.layer3.5.bn2.running_mean\", \"_model.layer3.5.bn2.running_var\", \"_model.layer3.5.bn2.num_batches_tracked\", \"_model.layer4.2.conv1.weight\", \"_model.layer4.2.bn1.weight\", \"_model.layer4.2.bn1.bias\", \"_model.layer4.2.bn1.running_mean\", \"_model.layer4.2.bn1.running_var\", \"_model.layer4.2.bn1.num_batches_tracked\", \"_model.layer4.2.conv2.weight\", \"_model.layer4.2.bn2.weight\", \"_model.layer4.2.bn2.bias\", \"_model.layer4.2.bn2.running_mean\", \"_model.layer4.2.bn2.running_var\", \"_model.layer4.2.bn2.num_batches_tracked\". "
     ]
    }
   ],
   "source": [
    "best_model = RobustPoolResNet(num_classes=N_CLASSES)\n",
    "best_model = best_model.to(DEVICE)\n",
    "best_model.load_state_dict(torch.load(\"resnet34_pseudo_welsch.pth.tar\"))\n",
    "best_model = best_model.eval()\n",
    "\n",
    "robust_model_accs = []\n",
    "for epsilon in epsilons:\n",
    "    acc = test_attack_torchattack(best_model, test_dataset, epsilon=epsilon, batch_size=128)\n",
    "    robust_model_accs.append(acc)\n",
    "robust_model_accs = np.array(robust_model_accs)"
   ]
  },
  {
   "cell_type": "code",
   "execution_count": 66,
   "metadata": {},
   "outputs": [
    {
     "data": {
      "image/png": "[encoded data removed]",
      "text/plain": [
       "<Figure size 1080x720 with 1 Axes>"
      ]
     },
     "metadata": {
      "needs_background": "light"
     },
     "output_type": "display_data"
    }
   ],
   "source": [
    "plt.figure(figsize=(15, 10))\n",
    "plt.plot(epsilons, basic_model_accs / basic_model_accs[0], label=\"Basic, initial accuracy: \" + str(round(basic_model_accs[0], 5)))\n",
    "plt.plot(epsilons, robust_model_accs / robust_model_accs[0], label=\"Robust, initial accuracy: \" + str(round(robust_model_accs[0], 5)))\n",
    "plt.xlabel(\"$\\epsilon$\")\n",
    "plt.ylabel(\"attack_accuracy / initial_accuracy\")\n",
    "plt.legend()\n",
    "plt.show()"
   ]
  },
  {
   "cell_type": "code",
   "execution_count": 36,
   "metadata": {},
   "outputs": [
    {
     "data": {
      "text/plain": [
       "array([0.77133106, 0.04339347, 0.02827889, 0.03217942, 0.03266699,\n",
       "       0.05411994, 0.08386153])"
      ]
     },
     "execution_count": 36,
     "metadata": {},
     "output_type": "execute_result"
    }
   ],
   "source": [
    "basic_model_accs"
   ]
  },
  {
   "cell_type": "code",
   "execution_count": 37,
   "metadata": {},
   "outputs": [
    {
     "data": {
      "text/plain": [
       "array([0.8210629 , 0.047294  , 0.03607996, 0.04339347, 0.05802048,\n",
       "       0.07849829, 0.09215017])"
      ]
     },
     "execution_count": 37,
     "metadata": {},
     "output_type": "execute_result"
    }
   ],
   "source": [
    "robust_model_accs"
   ]
  },
  {
   "cell_type": "code",
   "execution_count": null,
   "metadata": {},
   "outputs": [],
   "source": []
  }
 ],
 "metadata": {
  "kernelspec": {
   "display_name": "Python 3",
   "language": "python",
   "name": "python3"
  },
  "language_info": {
   "codemirror_mode": {
    "name": "ipython",
    "version": 3
   },
   "file_extension": ".py",
   "mimetype": "text/x-python",
   "name": "python",
   "nbconvert_exporter": "python",
   "pygments_lexer": "ipython3",
   "version": "3.6.9"
  }
 },
 "nbformat": 4,
 "nbformat_minor": 4
}
