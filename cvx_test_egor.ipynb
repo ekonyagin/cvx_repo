{
 "cells": [
  {
   "cell_type": "markdown",
   "metadata": {},
   "source": [
    "## Import, common routines and dataset"
   ]
  },
  {
   "cell_type": "code",
   "execution_count": 3,
   "metadata": {},
   "outputs": [],
   "source": [
    "import sys\n",
    "sys.path.append('/home/egor/cvx_repo/ddn/ddn')"
   ]
  },
  {
   "cell_type": "code",
   "execution_count": 4,
   "metadata": {},
   "outputs": [],
   "source": [
    "import numpy as np\n",
    "\n",
    "import random\n",
    "\n",
    "import torch\n",
    "import torch.nn as nn\n",
    "import torch.optim as optim\n",
    "import torch.nn.functional as F\n",
    "\n",
    "import torchvision\n",
    "import torchvision.transforms as transforms\n",
    "\n",
    "import torchattacks\n",
    "\n",
    "import ddn.pytorch.robustpool as robustpool\n",
    "\n",
    "import neptune\n",
    "\n",
    "import urllib\n",
    "from urllib.request import urlretrieve\n",
    "from pathlib import Path\n",
    "\n",
    "# import pytorch_lightning as pl\n",
    "\n",
    "%matplotlib inline\n",
    "import matplotlib.pyplot as plt\n",
    "\n",
    "from tqdm.notebook import tqdm\n",
    "\n",
    "from IPython.display import clear_output\n",
    "\n",
    "\n",
    "random.seed(42)\n",
    "np.random.seed(42)\n",
    "torch.manual_seed(42)\n",
    "torch.cuda.manual_seed_all(42)\n",
    "\n",
    "DEVICE = \"cuda\" if torch.cuda.is_available() else \"cpu\"\n",
    "\n",
    "if torch.cuda.is_available():\n",
    "    torch.backends.cudnn.deterministic = True"
   ]
  },
  {
   "cell_type": "code",
   "execution_count": 5,
   "metadata": {},
   "outputs": [
    {
     "name": "stdout",
     "output_type": "stream",
     "text": [
      "Downloading...\n"
     ]
    }
   ],
   "source": [
    "DATASET_ROOT = Path(\"Architectural_Heritage_Elements_Dataset_128_splitted\")\n",
    "ARCHIVE_NAME = Path(\"Architectural_Heritage_Elements_Dataset_128_splitted.zip\")\n",
    "\n",
    "N_CLASSES = 10\n",
    "\n",
    "if not ARCHIVE_NAME.is_file():\n",
    "    print(\"Downloading...\")\n",
    "    urlretrieve(\n",
    "        \"https://dl.dropboxusercontent.com/s/bucvr9x6ypqjht2/Architectural_Heritage_Elements_Dataset_128_splitted.zip\",\n",
    "        ARCHIVE_NAME)\n",
    "\n",
    "if not DATASET_ROOT.is_dir():\n",
    "    print(\"Unzipping...\")\n",
    "    import zipfile\n",
    "    with zipfile.ZipFile(ARCHIVE_NAME, 'r') as archive:\n",
    "        archive.extractall(\".\")\n",
    "\n",
    "train_dataset = torchvision.datasets.ImageFolder(DATASET_ROOT / \"train\", transform=transforms.ToTensor())\n",
    "test_dataset = torchvision.datasets.ImageFolder(DATASET_ROOT / \"test\", transform=transforms.ToTensor())"
   ]
  },
  {
   "cell_type": "code",
   "execution_count": 6,
   "metadata": {},
   "outputs": [],
   "source": [
    "def calculate_accuracy(model, batches):\n",
    "    n_predictions = 0\n",
    "    n_correct = 0\n",
    "\n",
    "    with torch.no_grad():\n",
    "        for X_batch, y_batch in batches:\n",
    "            y_pred = torch.argmax(model.forward(X_batch.to(DEVICE)), dim=1).cpu()\n",
    "            n_correct += (y_pred == y_batch).sum().item()\n",
    "            n_predictions += y_batch.shape[0]\n",
    "    \n",
    "    return n_correct / n_predictions\n",
    "\n",
    "\n",
    "def calculate_accuracy_dataset(model, dataset, batch_size):\n",
    "    loader = torch.utils.data.DataLoader(dataset, batch_size=batch_size, num_workers=4, shuffle=False)\n",
    "    return calculate_accuracy(model, loader)\n",
    "\n",
    "\n",
    "def run_epoch(model, optimizer, criterion, batches, phase='train'):\n",
    "    is_train = phase == 'train'\n",
    "    if is_train:\n",
    "        model.train()\n",
    "    else:\n",
    "        model.eval()\n",
    "\n",
    "    epoch_loss = 0.0\n",
    "    n_predictions = 0\n",
    "\n",
    "    for X_batch, y_batch in batches:\n",
    "\n",
    "        with torch.set_grad_enabled(is_train):\n",
    "            y_pred = model.forward(X_batch.to(DEVICE))\n",
    "            loss = criterion.forward(y_pred, y_batch.to(DEVICE))\n",
    "    \n",
    "        if is_train:\n",
    "            optimizer.zero_grad()\n",
    "            loss.backward()\n",
    "            optimizer.step()\n",
    "\n",
    "        epoch_loss += loss.item() * y_batch.shape[0]\n",
    "        n_predictions += y_batch.shape[0]\n",
    "\n",
    "    epoch_loss = epoch_loss / n_predictions\n",
    "\n",
    "    return epoch_loss\n",
    "\n",
    "\n",
    "def train_model(model, optimizer, criterion, n_epoch, batch_size, dataset, train_percentage, backup_name):\n",
    "    train_losses = []\n",
    "    val_losses = []\n",
    "    best_val_loss = np.inf\n",
    "\n",
    "    # train_batches, val_batches = get_train_val_loaders(train_dataset, val_dataset, batch_size=batch_size)\n",
    "    train_len = int(len(dataset) * train_percentage)\n",
    "    val_len = len(dataset) - train_len\n",
    "    train_dataset, val_dataset = torch.utils.data.random_split(dataset, [train_len, val_len])\n",
    "    \n",
    "    train_batches = torch.utils.data.DataLoader(train_dataset, batch_size=batch_size, num_workers=4, shuffle=True)\n",
    "    val_batches = torch.utils.data.DataLoader(val_dataset, batch_size=batch_size, num_workers=4, shuffle=False)\n",
    "\n",
    "    for epoch in range(n_epoch):\n",
    "        train_loss = run_epoch(model, optimizer, criterion, train_batches, phase='train')\n",
    "        val_loss = run_epoch(model, optimizer, criterion, val_batches, phase='val')\n",
    "\n",
    "        train_losses.append(train_loss)\n",
    "        val_losses.append(val_loss)\n",
    "\n",
    "        if val_loss < best_val_loss:\n",
    "            best_val_loss = val_loss\n",
    "            torch.save(model.state_dict(), backup_name)\n",
    "\n",
    "        clear_output(wait=True)\n",
    "        plt.figure(figsize=(8, 6))\n",
    "        plt.plot(train_losses, label=\"train\")\n",
    "        plt.plot(val_losses, label=\"val\")\n",
    "        plt.title(\"Train and validation loss\")\n",
    "        plt.xlabel(\"Iteration\")\n",
    "        plt.ylabel(\"Loss\")\n",
    "        plt.grid()\n",
    "        plt.legend()\n",
    "        plt.show()"
   ]
  },
  {
   "cell_type": "markdown",
   "metadata": {},
   "source": [
    "## ResNet-34"
   ]
  },
  {
   "cell_type": "code",
   "execution_count": 7,
   "metadata": {},
   "outputs": [],
   "source": [
    "model = model = torchvision.models.resnet34(pretrained=False, num_classes=N_CLASSES)\n",
    "model = model.to(DEVICE)\n",
    "optimizer = torch.optim.Adam(model.parameters(), lr=1e-3, weight_decay=1e-4)"
   ]
  },
  {
   "cell_type": "code",
   "execution_count": 9,
   "metadata": {},
   "outputs": [
    {
     "data": {
      "image/png": "[encoded data removed]",
      "text/plain": [
       "<Figure size 576x432 with 1 Axes>"
      ]
     },
     "metadata": {
      "needs_background": "light"
     },
     "output_type": "display_data"
    }
   ],
   "source": [
    "train_model(model, optimizer, \n",
    "            criterion=nn.CrossEntropyLoss(),\n",
    "            n_epoch=50,\n",
    "            batch_size=128,\n",
    "            dataset=train_dataset,\n",
    "            train_percentage=0.7,\n",
    "            backup_name=\"resnet34_basic.pth.tar\")"
   ]
  },
  {
   "cell_type": "code",
   "execution_count": 10,
   "metadata": {},
   "outputs": [],
   "source": [
    "best_model = torchvision.models.resnet34(pretrained=False, num_classes=N_CLASSES)\n",
    "best_model = best_model.to(DEVICE)\n",
    "best_model.load_state_dict(torch.load(\"resnet34_basic.pth.tar\"))\n",
    "best_model = best_model.eval()"
   ]
  },
  {
   "cell_type": "code",
   "execution_count": 11,
   "metadata": {},
   "outputs": [
    {
     "data": {
      "text/plain": [
       "0.7713310580204779"
      ]
     },
     "execution_count": 11,
     "metadata": {},
     "output_type": "execute_result"
    }
   ],
   "source": [
    "calculate_accuracy_dataset(best_model, test_dataset, 128)"
   ]
  },
  {
   "cell_type": "markdown",
   "metadata": {},
   "source": [
    "## Adversarial attacks"
   ]
  },
  {
   "cell_type": "code",
   "execution_count": 12,
   "metadata": {},
   "outputs": [],
   "source": [
    "def fgsm_attack(image, epsilon, data_grad):\n",
    "    # Collect the element-wise sign of the data gradient\n",
    "    sign_data_grad = data_grad.sign()\n",
    "    # Create the perturbed image by adjusting each pixel of the input image\n",
    "    perturbed_image = image + epsilon*sign_data_grad\n",
    "    # Adding clipping to maintain [0,1] range\n",
    "    perturbed_image = torch.clamp(perturbed_image, 0, 1)\n",
    "    # Return the perturbed image\n",
    "    return perturbed_image\n",
    "\n",
    "\n",
    "def test_attack(model, test_dataset, epsilon):\n",
    "    # Accuracy counter\n",
    "    correct = 0\n",
    "    \n",
    "    test_loader = torch.utils.data.DataLoader(test_dataset, batch_size=1, num_workers=4, shuffle=False)\n",
    "\n",
    "    # Loop over all examples in test set\n",
    "    for data, target in test_loader:\n",
    "\n",
    "        # Send the data and label to the device\n",
    "        data, target = data.to(DEVICE), target.to(DEVICE)\n",
    "\n",
    "        # Set requires_grad attribute of tensor. Important for Attack\n",
    "        data.requires_grad = True\n",
    "\n",
    "        # Forward pass the data through the model\n",
    "        output = model(data)\n",
    "        init_pred = output.max(1, keepdim=True)[1] # get the index of the max log-probability\n",
    "\n",
    "        # If the initial prediction is wrong, dont bother attacking, just move on\n",
    "        if init_pred.item() != target.item():\n",
    "            continue\n",
    "\n",
    "        # Calculate the loss\n",
    "        loss = F.nll_loss(output, target)\n",
    "\n",
    "        # Zero all existing gradients\n",
    "        model.zero_grad()\n",
    "\n",
    "        # Calculate gradients of model in backward pass\n",
    "        loss.backward()\n",
    "\n",
    "        # Collect datagrad\n",
    "        data_grad = data.grad.data\n",
    "\n",
    "        # Call FGSM Attack\n",
    "        perturbed_data = fgsm_attack(data, epsilon, data_grad)\n",
    "\n",
    "        # Re-classify the perturbed image\n",
    "        output = model(perturbed_data)\n",
    "\n",
    "        # Check for success\n",
    "        final_pred = output.max(1, keepdim=True)[1] # get the index of the max log-probability\n",
    "        if final_pred.item() == target.item():\n",
    "            correct += 1\n",
    "\n",
    "    # Calculate final accuracy for this epsilon\n",
    "    final_acc = correct/float(len(test_loader))\n",
    "    print(\"Epsilon: {}\\tTest Accuracy = {} / {} = {}\".format(epsilon, correct, len(test_loader), final_acc))\n",
    "\n",
    "    # Return the accuracy and an adversarial example\n",
    "    return final_acc"
   ]
  },
  {
   "cell_type": "code",
   "execution_count": 13,
   "metadata": {},
   "outputs": [],
   "source": [
    "epsilons = [0, .05, .1, .15, .2, .25, .3]"
   ]
  },
  {
   "cell_type": "code",
   "execution_count": 14,
   "metadata": {},
   "outputs": [
    {
     "name": "stdout",
     "output_type": "stream",
     "text": [
      "Epsilon: 0\tTest Accuracy = 1582 / 2051 = 0.7713310580204779\n",
      "Epsilon: 0.05\tTest Accuracy = 81 / 2051 = 0.039492930277913216\n",
      "Epsilon: 0.1\tTest Accuracy = 8 / 2051 = 0.0039005363237445147\n",
      "Epsilon: 0.15\tTest Accuracy = 13 / 2051 = 0.006338371526084837\n",
      "Epsilon: 0.2\tTest Accuracy = 13 / 2051 = 0.006338371526084837\n",
      "Epsilon: 0.25\tTest Accuracy = 57 / 2051 = 0.02779132130667967\n",
      "Epsilon: 0.3\tTest Accuracy = 140 / 2051 = 0.06825938566552901\n",
      "[0.7713310580204779, 0.039492930277913216, 0.0039005363237445147, 0.006338371526084837, 0.006338371526084837, 0.02779132130667967, 0.06825938566552901]\n"
     ]
    }
   ],
   "source": [
    "standard_model_accs = []\n",
    "for epsilon in epsilons:\n",
    "    acc = test_attack(best_model, test_dataset, epsilon)\n",
    "    standard_model_accs.append(acc)\n",
    "print(standard_model_accs)"
   ]
  },
  {
   "cell_type": "markdown",
   "metadata": {},
   "source": [
    "## Robust pooling"
   ]
  },
  {
   "cell_type": "code",
   "execution_count": 47,
   "metadata": {},
   "outputs": [],
   "source": [
    "class RobustPoolResNet(nn.Module):\n",
    "    def __init__(self, num_classes):\n",
    "        super().__init__()\n",
    "        \n",
    "        self._model = torchvision.models.resnet34(pretrained=False, num_classes=n_classes)\n",
    "        self._model.avgpool = robustpool.RobustGlobalPool2d(robustpool.Welsch)\n",
    "    \n",
    "    def forward(self, x):\n",
    "        return self._model.forward(x)"
   ]
  },
  {
   "cell_type": "code",
   "execution_count": 50,
   "metadata": {},
   "outputs": [],
   "source": [
    "model = RobustPoolResNet(num_classes=N_CLASSES)\n",
    "model = model.to(DEVICE)\n",
    "optimizer = torch.optim.Adam(model.parameters(), lr=1e-3, weight_decay=1e-4)"
   ]
  },
  {
   "cell_type": "code",
   "execution_count": 51,
   "metadata": {},
   "outputs": [
    {
     "data": {
      "image/png": "[encoded data removed]",
      "text/plain": [
       "<Figure size 576x432 with 1 Axes>"
      ]
     },
     "metadata": {
      "needs_background": "light"
     },
     "output_type": "display_data"
    }
   ],
   "source": [
    "train_model(model, optimizer, \n",
    "            criterion=nn.CrossEntropyLoss(),\n",
    "            n_epoch=100,\n",
    "            batch_size=256,\n",
    "            dataset=train_dataset,\n",
    "            train_percentage=0.7,\n",
    "            backup_name=\"resnet34_pseudo_welsch.pth.tar\")"
   ]
  },
  {
   "cell_type": "code",
   "execution_count": 52,
   "metadata": {},
   "outputs": [],
   "source": [
    "best_model = RobustPoolResNet(num_classes=N_CLASSES)\n",
    "best_model = best_model.to(DEVICE)\n",
    "best_model.load_state_dict(torch.load(\"resnet34_pseudo_welsch.pth.tar\"))\n",
    "best_model = best_model.eval()"
   ]
  },
  {
   "cell_type": "code",
   "execution_count": 62,
   "metadata": {},
   "outputs": [],
   "source": [
    "robust_model_accs = []\n",
    "for epsilon in epsilons:\n",
    "    acc = test_attack(best_model, test_dataset, epsilon)\n",
    "    robust_model_accs.append(acc)\n",
    "print(robust_model_accs)"
   ]
  },
  {
   "cell_type": "code",
   "execution_count": 64,
   "metadata": {},
   "outputs": [],
   "source": [
    "frac_standard = np.array(standard_model_accs) / standard_model_accs[0]\n",
    "frac_robust = np.array(robust_model_accs) / robust_model_accs[0]"
   ]
  },
  {
   "cell_type": "code",
   "execution_count": 65,
   "metadata": {},
   "outputs": [],
   "source": [
    "plt.plot(epsilons, frac_standard, label=\"Basic\")\n",
    "plt.plot(epsilons, frac_robust, label=\"Robust\")\n",
    "plt.legend()\n",
    "plt.show()"
   ]
  },
  {
   "cell_type": "markdown",
   "metadata": {},
   "source": [
    "## torchattacks"
   ]
  },
  {
   "cell_type": "code",
   "execution_count": 73,
   "metadata": {},
   "outputs": [],
   "source": [
    "#     n_predictions = 0\n",
    "#     n_correct = 0\n",
    "\n",
    "#     with torch.no_grad():\n",
    "#         for X_batch, y_batch in batches:\n",
    "#             y_pred = torch.argmax(model.forward(X_batch.to(DEVICE)), dim=1).cpu()\n",
    "#             n_correct += (y_pred == y_batch).sum().item()\n",
    "#             n_predictions += y_batch.shape[0]\n",
    "    \n",
    "#     return n_correct / n_predictions\n",
    "\n",
    "\n",
    "def test_attack_torchattack(model, dataset, epsilon, batch_size):\n",
    "    attack = torchattacks.FGSM(model, eps=epsilon)\n",
    "    loader = torch.utils.data.DataLoader(dataset, batch_size=batch_size, num_workers=4, shuffle=False)\n",
    "    \n",
    "    n_correct = 0\n",
    "    n_predictions = 0\n",
    "    \n",
    "    for image_batch, label_batch in loader:\n",
    "        \n",
    "        image_batch = image_batch.to(DEVICE)\n",
    "        label_batch = label_batch.to(DEVICE)\n",
    "        adversarial_images = attack(image_batch, label_batch)\n",
    "        \n",
    "        with torch.no_grad():\n",
    "            y_pred = torch.argmax(model.forward(adversarial_images), dim=1)\n",
    "            n_correct += (y_pred == label_batch).sum().item()\n",
    "            n_predictions += label_batch.shape[0]\n",
    "            \n",
    "    return n_correct / n_predictions"
   ]
  },
  {
   "cell_type": "code",
   "execution_count": 86,
   "metadata": {},
   "outputs": [],
   "source": [
    "best_model = RobustPoolSqueezeNet(num_classes=N_CLASSES)\n",
    "best_model = best_model.to(DEVICE)\n",
    "best_model.load_state_dict(torch.load(\"squeezenet_1_0_pseudo_welsch.pth.tar\"))\n",
    "best_model = best_model.eval()"
   ]
  },
  {
   "cell_type": "code",
   "execution_count": 85,
   "metadata": {},
   "outputs": [
    {
     "data": {
      "text/plain": [
       "0.7342759629449049"
      ]
     },
     "execution_count": 85,
     "metadata": {},
     "output_type": "execute_result"
    }
   ],
   "source": [
    "test_attack_torchattack(best_model, test_dataset, epsilon=0.0, batch_size=128)"
   ]
  },
  {
   "cell_type": "code",
   "execution_count": 87,
   "metadata": {},
   "outputs": [
    {
     "data": {
      "text/plain": [
       "0.7342759629449049"
      ]
     },
     "execution_count": 87,
     "metadata": {},
     "output_type": "execute_result"
    }
   ],
   "source": [
    "calculate_accuracy_dataset(best_model, test_dataset, 128)"
   ]
  },
  {
   "cell_type": "markdown",
   "metadata": {},
   "source": [
    "## torchattacks: evaluation"
   ]
  },
  {
   "cell_type": "code",
   "execution_count": 104,
   "metadata": {},
   "outputs": [],
   "source": [
    "epsilons = np.array([0, 0.05, 0.1, 0.15, 0.2, 0.25, 0.3])"
   ]
  },
  {
   "cell_type": "code",
   "execution_count": 101,
   "metadata": {},
   "outputs": [],
   "source": [
    "best_model = torchvision.models.squeezenet1_0(pretrained=False, num_classes=N_CLASSES)\n",
    "best_model = best_model.to(DEVICE)\n",
    "best_model.load_state_dict(torch.load(\"squeezenet_1_0_basic.pth.tar\"))\n",
    "best_model = best_model.eval()\n",
    "\n",
    "basic_model_accs = []\n",
    "for epsilon in epsilons:\n",
    "    acc = test_attack_torchattack(best_model, test_dataset, epsilon=epsilon, batch_size=128)\n",
    "    basic_model_accs.append(acc)\n",
    "basic_model_accs = np.array(basic_model_accs)"
   ]
  },
  {
   "cell_type": "code",
   "execution_count": 102,
   "metadata": {},
   "outputs": [],
   "source": [
    "best_model = RobustPoolSqueezeNet(num_classes=N_CLASSES)\n",
    "best_model = best_model.to(DEVICE)\n",
    "best_model.load_state_dict(torch.load(\"squeezenet_1_0_pseudo_welsch.pth.tar\"))\n",
    "best_model = best_model.eval()\n",
    "\n",
    "robust_model_accs = []\n",
    "for epsilon in epsilons:\n",
    "    acc = test_attack_torchattack(best_model, test_dataset, epsilon=epsilon, batch_size=128)\n",
    "    robust_model_accs.append(acc)\n",
    "robust_model_accs = np.array(robust_model_accs)"
   ]
  },
  {
   "cell_type": "code",
   "execution_count": 117,
   "metadata": {},
   "outputs": [
    {
     "data": {
      "image/png": "[encoded data removed]",
      "text/plain": [
       "<Figure size 1080x720 with 1 Axes>"
      ]
     },
     "metadata": {
      "needs_background": "light"
     },
     "output_type": "display_data"
    }
   ],
   "source": [
    "plt.figure(figsize=(15, 10))\n",
    "plt.plot(epsilons[1:], basic_model_accs[1:] / basic_model_accs[0], label=\"Basic, initial accuracy: \" + str(round(basic_model_accs[0], 5)))\n",
    "plt.plot(epsilons[1:], robust_model_accs[1:] / robust_model_accs[0], label=\"Robust, initial accuracy: \" + str(round(robust_model_accs[0], 5)))\n",
    "plt.xlabel(\"$\\epsilon$\")\n",
    "plt.ylabel(\"attack_accuracy / initial_accuracy\")\n",
    "plt.legend()\n",
    "plt.show()"
   ]
  },
  {
   "cell_type": "code",
   "execution_count": 96,
   "metadata": {},
   "outputs": [
    {
     "data": {
      "text/plain": [
       "[0.7420770355923939,\n",
       " 0.17454900048756705,\n",
       " 0.1847879083373964,\n",
       " 0.13603120429058996,\n",
       " 0.10580204778156997,\n",
       " 0.10141394441735739,\n",
       " 0.10092637737688932]"
      ]
     },
     "execution_count": 96,
     "metadata": {},
     "output_type": "execute_result"
    }
   ],
   "source": [
    "basic_model_accs"
   ]
  },
  {
   "cell_type": "code",
   "execution_count": 95,
   "metadata": {},
   "outputs": [
    {
     "data": {
      "text/plain": [
       "[0.7342759629449049,\n",
       " 0.18430034129692832,\n",
       " 0.16089712335446124,\n",
       " 0.1491955143832277,\n",
       " 0.1121404193076548,\n",
       " 0.10190151145782544,\n",
       " 0.09946367625548513]"
      ]
     },
     "execution_count": 95,
     "metadata": {},
     "output_type": "execute_result"
    }
   ],
   "source": [
    "robust_model_accs"
   ]
  }
 ],
 "metadata": {
  "kernelspec": {
   "display_name": "Python 3",
   "language": "python",
   "name": "python3"
  },
  "language_info": {
   "codemirror_mode": {
    "name": "ipython",
    "version": 3
   },
   "file_extension": ".py",
   "mimetype": "text/x-python",
   "name": "python",
   "nbconvert_exporter": "python",
   "pygments_lexer": "ipython3",
   "version": "3.6.9"
  }
 },
 "nbformat": 4,
 "nbformat_minor": 4
}
